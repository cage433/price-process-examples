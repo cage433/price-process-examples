{
 "cells": [
  {
   "cell_type": "markdown",
   "metadata": {
    "tags": []
   },
   "source": [
    "## Forward price evolution for various processes"
   ]
  },
  {
   "cell_type": "code",
   "execution_count": 1,
   "metadata": {
    "tags": []
   },
   "outputs": [],
   "source": [
    "import numpy as np\n",
    "from typing import List\n",
    "from datetime import date, timedelta\n",
    "from numbers import Number\n",
    "from forward_price_curve import ForwardPriceCurve, ForwardPrice, time_between\n",
    "from price_process import PriceProcess\n",
    "from price_evolution import display_evolving_fpc\n"
   ]
  },
  {
   "cell_type": "markdown",
   "metadata": {
    "tags": []
   },
   "source": [
    "We define a multi-factor process with exponentially decaying vols, $P(t, T)$, observing prices for delivery $T$ at time $t \\leq T$ \n",
    "\n",
    "$$\\frac{{\\mathrm d}P(t, T)}{P(t, T)} = \\Pi_{i=1}^Ne^{-\\alpha_i (T - t)}\\sigma_i {\\mathrm d}z_i(t)$$\n",
    "\n",
    "For ease of exposition the $\\sigma_i$ are constants, however they could equally be functions of the delivery time $T$\n"
   ]
  },
  {
   "cell_type": "code",
   "execution_count": 2,
   "metadata": {
    "tags": []
   },
   "outputs": [],
   "source": [
    "class LognormalProcessWithExponentialDecay(PriceProcess):\n",
    "    def __init__(self, alphas: List[Number], vols: List[Number]):\n",
    "        super().__init__()\n",
    "        self.alphas = alphas\n",
    "        self.vols = vols\n",
    "        self.num_factors = len(alphas)\n",
    "\n",
    "    def evolve(self, fpc, next_observation_date):\n",
    "        \n",
    "        dt = time_between(fpc.observation_date, next_observation_date)\n",
    "        dzs = [self.rng.normal(scale=np.sqrt(dt)) for _ in range(self.num_factors)]\n",
    "        spot_delivery_day = next_observation_date + timedelta(1)\n",
    "        live_fpc = fpc.add_price_for_date(spot_delivery_day)\n",
    "        live_fpc = live_fpc.remove_deliveries_expiring_before(spot_delivery_day)\n",
    "\n",
    "        evolved_prices = []\n",
    "        for fp in live_fpc.forward_prices:\n",
    "            evolved_price = fp.price\n",
    "            time_to_delivery = (fp.day - fpc.observation_date).days / 365.0\n",
    "            for dz, alpha, vol in zip(dzs, self.alphas, self.vols):\n",
    "                scaled_vol = np.exp(-alpha * time_to_delivery) * vol\n",
    "                evolved_price *= np.exp(scaled_vol * dz  - self.risk_adj(scaled_vol, dt))\n",
    "            evolved_prices.append(ForwardPrice(fp.day, evolved_price))\n",
    "            \n",
    "        return ForwardPriceCurve(\n",
    "            next_observation_date,\n",
    "            evolved_prices\n",
    "        )\n",
    "    \n",
    "    "
   ]
  },
  {
   "cell_type": "markdown",
   "metadata": {
    "tags": []
   },
   "source": [
    "Any process P(t, T) can have a mean reverting spot process added. As suggested we use the MA price as the value to which we revert (and for convenience use the price of the day exactly one month ahead as a proxy for the monthly price)\n",
    "\n",
    "\\begin{equation}\n",
    "\\frac{{\\mathrm d}P^\\prime(t, T)}{P^\\prime(t, T)} = \n",
    "\\begin{cases}\n",
    "dP(t, T) + \\kappa\\left(P(t, t + \\frac{1}{12}) - P(t, t)\\right)dt + \\sigma^\\prime dz^\\prime & \\text{when }t=T \\\\\n",
    "dP(t, T)& \\text{when }t<T \n",
    "\\end{cases}\n",
    "\\end{equation}\n",
    "\n"
   ]
  },
  {
   "cell_type": "code",
   "execution_count": 3,
   "metadata": {
    "tags": []
   },
   "outputs": [],
   "source": [
    "class ProcessWithAddedMeanRevertingSpotPrice(PriceProcess):\n",
    "    def __init__(self, original_process, kappa, spot_vol):\n",
    "        super().__init__()\n",
    "        self.original_process = original_process\n",
    "        self.kappa = kappa\n",
    "        self.spot_vol = spot_vol\n",
    "        \n",
    "    def _drift(self, fpc, dt):\n",
    "        spot_price = fpc.interpolated_price(fpc.observation_date + timedelta(1))\n",
    "        ma_price = fpc.interpolated_price(fpc.observation_date + timedelta(30))\n",
    "        return (ma_price - spot_price) * self.kappa * dt\n",
    "        \n",
    "    def evolve(self, fpc, next_observation_date):\n",
    "        # Spot only changes from previous day\n",
    "        dt = 1.0 / 365\n",
    "        \n",
    "        # first evolve according to the original process\n",
    "        fpc1 = self.original_process.evolve(fpc, next_observation_date)\n",
    "\n",
    "\n",
    "        # Keep the price fixed for the day after spot, so that interpolation doesn't spuriously move prices\n",
    "        spot_delivery_day = next_observation_date + timedelta(1)\n",
    "        fpc2 = fpc1.add_price_for_date(spot_delivery_day + timedelta(1))\n",
    "        \n",
    "        spot_price, *later_prices = fpc2.forward_prices\n",
    "        \n",
    "        \n",
    "        dz = self.rng.normal(scale = np.sqrt(dt))\n",
    "        evolved_spot_price = spot_price * np.exp(self.spot_vol * dz + self._drift(fpc, dt) - self.risk_adj(self.spot_vol, dt))\n",
    "        return ForwardPriceCurve(\n",
    "            next_observation_date,\n",
    "            [evolved_spot_price] + later_prices\n",
    "        )\n"
   ]
  },
  {
   "cell_type": "markdown",
   "metadata": {
    "tags": []
   },
   "source": [
    "As an initial example, we use a 2 factor process. One of the decay factors is $0$, which means a parallel shift is applied"
   ]
  },
  {
   "cell_type": "code",
   "execution_count": 4,
   "metadata": {
    "tags": []
   },
   "outputs": [
    {
     "data": {
      "image/png": "[encoded data removed]",
      "text/plain": [
       "<Figure size 648x432 with 1 Axes>"
      ]
     },
     "metadata": {
      "needs_background": "light"
     },
     "output_type": "display_data"
    }
   ],
   "source": [
    "two_factor_process = LognormalProcessWithExponentialDecay(\n",
    "    alphas=[0, 1.0],\n",
    "    vols=[0.2, 0.7]\n",
    ")\n",
    "\n",
    "display_evolving_fpc(\n",
    "    ForwardPriceCurve.jan_28_ttf_curve(),\n",
    "    two_factor_process, \n",
    "    sleep_sec=0.3,\n",
    "    title=\"Two Factor Process\"\n",
    ")"
   ]
  },
  {
   "cell_type": "markdown",
   "metadata": {
    "tags": []
   },
   "source": [
    "We next try adding a spot process, and restrict our attention to the next year or so's prices"
   ]
  },
  {
   "cell_type": "code",
   "execution_count": 5,
   "metadata": {
    "tags": []
   },
   "outputs": [
    {
     "data": {
      "image/png": "[encoded data removed]",
      "text/plain": [
       "<Figure size 648x432 with 1 Axes>"
      ]
     },
     "metadata": {
      "needs_background": "light"
     },
     "output_type": "display_data"
    }
   ],
   "source": [
    "process_with_spot_reversion = ProcessWithAddedMeanRevertingSpotPrice(\n",
    "    two_factor_process, \n",
    "    kappa=0.4, \n",
    "    spot_vol=0.4\n",
    ")\n",
    "display_evolving_fpc(\n",
    "    ForwardPriceCurve.jan_28_ttf_curve(),\n",
    "    process_with_spot_reversion, \n",
    "    sleep_sec=0.3,\n",
    "    title=\"Two Factor Process With Spot Reversion\",\n",
    "    x_axis_last_date=date(2023, 7, 1),\n",
    "    initial_y_axis_range=(80, 120),\n",
    ")"
   ]
  },
  {
   "cell_type": "markdown",
   "metadata": {},
   "source": [
    "Note though that a very similar effect, perhaps more convincigly, can be arrived at by simply using a third factor, with a high decay rate"
   ]
  },
  {
   "cell_type": "code",
   "execution_count": 8,
   "metadata": {},
   "outputs": [
    {
     "data": {
      "image/png": "[encoded data removed]",
      "text/plain": [
       "<Figure size 648x432 with 1 Axes>"
      ]
     },
     "metadata": {
      "needs_background": "light"
     },
     "output_type": "display_data"
    }
   ],
   "source": [
    "three_factor_process = LognormalProcessWithExponentialDecay(\n",
    "    alphas=[0, 1.0, 10.0],\n",
    "    vols=[0.2, 0.7, 0.5]\n",
    ")\n",
    "\n",
    "display_evolving_fpc(\n",
    "    ForwardPriceCurve.jan_28_ttf_curve(),\n",
    "    three_factor_process, \n",
    "    sleep_sec=0.3,\n",
    "    title=\"Three Factor Process\",\n",
    "    x_axis_last_date=date(2023, 7, 1),\n",
    "    initial_y_axis_range=(80, 120),\n",
    ")"
   ]
  },
  {
   "cell_type": "code",
   "execution_count": null,
   "metadata": {},
   "outputs": [],
   "source": []
  }
 ],
 "metadata": {
  "kernelspec": {
   "display_name": "Python 3",
   "language": "python",
   "name": "python3"
  },
  "language_info": {
   "codemirror_mode": {
    "name": "ipython",
    "version": 3
   },
   "file_extension": ".py",
   "mimetype": "text/x-python",
   "name": "python",
   "nbconvert_exporter": "python",
   "pygments_lexer": "ipython3",
   "version": "3.8.10"
  }
 },
 "nbformat": 4,
 "nbformat_minor": 4
}
