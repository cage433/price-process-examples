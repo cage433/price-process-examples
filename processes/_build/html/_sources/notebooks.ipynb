{
 "cells": [
  {
   "cell_type": "code",
   "execution_count": 1,
   "metadata": {
    "tags": []
   },
   "outputs": [],
   "source": [
    "%matplotlib inline\n",
    "import numpy as np\n",
    "from time import sleep\n",
    "from IPython.display import clear_output\n",
    "from matplotlib import pyplot as plt\n",
    "from matplotlib.dates import DateFormatter\n",
    "from typing import List\n",
    "from datetime import date, timedelta\n",
    "from numbers import Number"
   ]
  },
  {
   "cell_type": "code",
   "execution_count": 2,
   "metadata": {
    "tags": []
   },
   "outputs": [],
   "source": [
    "def time_between(d0: date, d1: date):\n",
    "    return (d1 - d0).days / 365.0"
   ]
  },
  {
   "cell_type": "code",
   "execution_count": 3,
   "metadata": {
    "tags": []
   },
   "outputs": [],
   "source": [
    "# double the default size of graphs\n",
    "plt.rcParams['figure.figsize'] = [n * 2 for n in plt.rcParams['figure.figsize']]\n"
   ]
  },
  {
   "cell_type": "code",
   "execution_count": 16,
   "metadata": {
    "tags": []
   },
   "outputs": [],
   "source": [
    "class ForwardPrice:\n",
    "    \"\"\"\n",
    "    An observed price for some delivery day\n",
    "    \"\"\"\n",
    "    def __init__(self, day: date, price: Number):\n",
    "        self.day = day\n",
    "        self.price = price\n",
    "        \n",
    "        \n",
    "class ForwardPriceCurve:\n",
    "    \"\"\"\n",
    "    A collection of prices for various delivery times, observed at some time\n",
    "    \"\"\"\n",
    "    def __init__(self, observation_date: date, forward_prices: List[ForwardPrice]):\n",
    "        self.observation_date = observation_date\n",
    "        self.forward_prices = forward_prices\n",
    "        self.delivery_days = [fp.day for fp in self.forward_prices]\n",
    "        self.last_delivery_day = self.delivery_days[-1]\n",
    "        \n",
    "        # for interpolation\n",
    "        self._ys = [fp.price for fp in self.forward_prices]\n",
    "        self._xs = [time_between(self.observation_date, d) for d in self.delivery_days]\n",
    "        \n",
    "        \n",
    "    def interpolated_price(self, delivery_date):\n",
    "        x = time_between(self.observation_date, delivery_date)\n",
    "        return np.interp(x, self._xs, self._ys)\n",
    "        \n",
    "    \n",
    "    def remove_deliveries_expiring_before(self, boundary_date):\n",
    "        return ForwardPriceCurve(\n",
    "            self.observation_date,\n",
    "            [fp for fp in self.forward_prices if fp.day >= boundary_date]\n",
    "        )\n",
    "    \n",
    "    def draw_curve(self, initial_date):\n",
    "        xs = [self.observation_date + timedelta(i) for i in range(30)]\n",
    "        xs += [self.observation_date + timedelta(i * 10) for i in range(100)]\n",
    "        xs.append(self.last_delivery_day)\n",
    "        xs = [d for d in xs if d <= self.last_delivery_day]\n",
    "        xs = sorted(list(set(xs)))\n",
    "            \n",
    "        ys = [self.interpolated_price(d) for d in xs]\n",
    "        xtick_dates = [\n",
    "            d \n",
    "            for y in range(2022, 2027) \n",
    "            for d in [date(y, 1, 1), date(y, 7, 1)] \n",
    "            if initial_date <= d and d <= self.last_delivery_day\n",
    "        ]\n",
    "        fig, ax = plt.subplots()\n",
    "        line, = ax.plot([])\n",
    "        ax.xaxis.set_major_formatter(DateFormatter(\"%b/%y\"))\n",
    "        plt.xticks(xtick_dates)\n",
    "        ax.set_xlim(initial_date, self.last_delivery_day)\n",
    "        ax.set_ylim(0, 200)\n",
    "        formatted_observation_date = self.observation_date.strftime(\"%d %b %y\")\n",
    "        ax.set_xlabel(f\"Observation Date {formatted_observation_date}\")\n",
    "        ax.set_ylabel(\"TTF Price\")\n",
    "        line.set_data(xs, ys)\n",
    "        plt.show()\n",
    "        \n",
    "\n",
    "        \n",
    "\n",
    "\n",
    "TTF_28_JAN_PRICES = {\n",
    "    date(2022, 1, 29):90.50, date(2022, 1, 30):90.50, date(2022, 1, 31):90.70, date(2022, 2, 1):91.07, date(2022, 2, 28):91.07,\n",
    "    date(2022, 3, 1):90.82, date(2022, 4, 1):87.50, date(2022, 5, 1):86.55, date(2022, 6, 1):86.37, date(2022, 7, 1):86.17,\n",
    "    date(2022, 8, 1):85.97, date(2022, 9, 1):85.97, date(2022, 10, 1):86.50, date(2022, 11, 1):87.17, date(2022, 12, 1):87.66,\n",
    "    date(2023, 1, 1):87.85, date(2023, 2, 1):87.83, date(2023, 3, 1):82.82, date(2023, 4, 1):49.50, date(2023, 5, 1):45.50,\n",
    "    date(2023, 6, 1):44.90, date(2023, 7, 1):44.56, date(2023, 8, 1):44.61, date(2023, 9, 1):44.70, date(2023, 10, 1):44.97,\n",
    "    date(2023, 11, 1):46.10, date(2023, 12, 1):46.59, date(2024, 1, 1):46.11, date(2024, 2, 1):46.14, date(2024, 3, 1):45.00,\n",
    "    date(2024, 4, 1):34.00, date(2024, 5, 1):31.57, date(2024, 6, 1):30.74, date(2024, 7, 1):30.99, date(2024, 8, 1):30.92,\n",
    "    date(2024, 9, 1):31.20, date(2024, 10, 1):31.66, date(2024, 11, 1):32.56, date(2024, 12, 1):32.93, \n",
    "}\n",
    "\n",
    "PRICING_DATE = date(2022, 1, 28)\n",
    "delivery_dates = sorted(TTF_28_JAN_PRICES)\n",
    "TTF_28_JAN_COARSE_FPC = ForwardPriceCurve(\n",
    "    observation_date = PRICING_DATE,\n",
    "    forward_prices = [ForwardPrice(day=d, price = TTF_28_JAN_PRICES[d]) for d in delivery_dates]\n",
    ")\n",
    "\n",
    "finer_dates = [PRICING_DATE + timedelta(i * 7) for i in range(100)]\n",
    "finer_dates += delivery_dates\n",
    "finter_dates = sorted(list(set(finer_dates)))\n",
    "TTF_28_JAN_FPC = ForwardPriceCurve(\n",
    "    observation_date = PRICING_DATE,\n",
    "    forward_prices = [ForwardPrice(day=d, price = TTF_28_JAN_COARSE_FPC.interpolated_price(d)) for d in finer_dates]\n",
    ")"
   ]
  },
  {
   "cell_type": "code",
   "execution_count": 9,
   "metadata": {
    "tags": []
   },
   "outputs": [],
   "source": [
    "from abc import ABC, abstractmethod\n",
    "from numbers import Number\n",
    "\n",
    "class PriceProcess(ABC):\n",
    "    def __init__(self):\n",
    "        self.rng = np.random.default_rng()\n",
    "        \n",
    "    @abstractmethod\n",
    "    def evolve(fpc: ForwardPriceCurve, next_observation_date: date):\n",
    "        \"\"\" randomly perturb the forward curve\"\"\"\n",
    "  "
   ]
  },
  {
   "cell_type": "code",
   "execution_count": 10,
   "metadata": {
    "tags": []
   },
   "outputs": [],
   "source": [
    "class LognormalProcessWithExponentialDecay(PriceProcess):\n",
    "    def __init__(self, alphas: List[Number], vols: List[Number]):\n",
    "        super().__init__()\n",
    "        self.alphas = alphas\n",
    "        self.vols = vols\n",
    "\n",
    "    def evolve(self, fpc, next_observation_date):\n",
    "        \n",
    "        dt = (next_observation_date - fpc.observation_date).days / 365.0\n",
    "        dzs = [self.rng.normal(scale=np.sqrt(dt)) for _ in range(len(self.alphas))]\n",
    "        live_fpc = fpc.remove_deliveries_expiring_before(next_observation_date)\n",
    "\n",
    "        def risk_adj(s):\n",
    "            return 0.5 * s * s * dt\n",
    "        \n",
    "        evolved_prices = []\n",
    "        for fp in live_fpc.forward_prices:\n",
    "            evolved_price = fp.price\n",
    "            time_to_delivery = (fp.day - fpc.observation_date).days / 365.0\n",
    "            for dz, alpha, vol in zip(dzs, self.alphas, self.vols):\n",
    "                scaled_vol = np.exp(-alpha * time_to_delivery) * vol\n",
    "                evolved_price *= np.exp(scaled_vol * dz  - risk_adj(scaled_vol))\n",
    "            evolved_prices.append(ForwardPrice(fp.day, evolved_price))\n",
    "            \n",
    "        return ForwardPriceCurve(\n",
    "            next_observation_date,\n",
    "            evolved_prices\n",
    "        )\n",
    "                                \n",
    "        "
   ]
  },
  {
   "cell_type": "code",
   "execution_count": 17,
   "metadata": {
    "tags": []
   },
   "outputs": [
    {
     "data": {
      "image/png": "[encoded data removed]",
      "text/plain": [
       "<Figure size 864x576 with 1 Axes>"
      ]
     },
     "metadata": {
      "needs_background": "light"
     },
     "output_type": "display_data"
    }
   ],
   "source": [
    "fpc = TTF_28_JAN_FPC\n",
    "process = LognormalProcessWithExponentialDecay(\n",
    "    alphas=[0, 0.5, 10],\n",
    "    vols=[0.2, 0.7, 0.5]\n",
    ")\n",
    "observation_days = [PRICING_DATE + timedelta(days=i * 7) for i in range(80)]\n",
    "\n",
    "for d in observation_days:\n",
    "    fpc.draw_curve(PRICING_DATE)\n",
    "    clear_output(wait=True)\n",
    "    sleep(0.2)\n",
    "    fpc = process.evolve(fpc, d)"
   ]
  },
  {
   "cell_type": "code",
   "execution_count": null,
   "metadata": {},
   "outputs": [],
   "source": []
  }
 ],
 "metadata": {
  "kernelspec": {
   "display_name": "Python 3",
   "language": "python",
   "name": "python3"
  },
  "language_info": {
   "codemirror_mode": {
    "name": "ipython",
    "version": 3
   },
   "file_extension": ".py",
   "mimetype": "text/x-python",
   "name": "python",
   "nbconvert_exporter": "python",
   "pygments_lexer": "ipython3",
   "version": "3.8.10"
  }
 },
 "nbformat": 4,
 "nbformat_minor": 4
}
