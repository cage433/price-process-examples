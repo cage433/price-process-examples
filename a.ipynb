{
 "cells": [
  {
   "cell_type": "code",
   "execution_count": 75,
   "metadata": {
    "tags": []
   },
   "outputs": [],
   "source": [
    "%matplotlib inline\n",
    "import numpy as np\n",
    "from time import sleep\n",
    "from IPython.display import clear_output\n",
    "from matplotlib import pyplot as plt\n",
    "from typing import List\n",
    "from datetime import date"
   ]
  },
  {
   "cell_type": "code",
   "execution_count": 230,
   "metadata": {
    "tags": []
   },
   "outputs": [],
   "source": [
    "class ForwardPrice:\n",
    "    \"\"\"\n",
    "    An observed price for some delivery time T\n",
    "    \"\"\"\n",
    "    def __init__(self, T, P):\n",
    "        self.T = T\n",
    "        self.P = P\n",
    "        \n",
    "class ForwardPriceCurve:\n",
    "    \"\"\"\n",
    "    A collection of prices for various delivery times, observed at some time\n",
    "    \"\"\"\n",
    "    def __init__(self, observation_time: Number, forward_prices: List[ForwardPrice]):\n",
    "        self.observation_time = observation_time\n",
    "        self.forward_prices = forward_prices\n",
    "        \n",
    "    \n",
    "    def remove_deliveries_expiring_before(self, boundary):\n",
    "        return ForwardPriceCurve(\n",
    "            self.observation_time,\n",
    "            [fp for fp in self.forward_prices if fp.T >= boundary]\n",
    "        )\n",
    "    \n",
    "    @property\n",
    "    def delivery_times(self):\n",
    "        return [fp.T for fp in self.forward_prices]\n",
    "    \n",
    "    @property\n",
    "    def prices(self):\n",
    "        return [fp.P for fp in self.forward_prices]\n",
    "    \n",
    "    def _draw_curve(self, xs, ys, xlabel):\n",
    "        fig, ax = plt.subplots()\n",
    "        line, = ax.plot([])\n",
    "        ax.set_xlim(0, xs[-1])\n",
    "        ax.set_ylim(0, np.max(ys) * 1.2)\n",
    "        ax.set_xlabel(xlabel)\n",
    "        ax.set_ylabel(\"TTF Price\")\n",
    "        line.set_data(xs, ys)\n",
    "        plt.show()\n",
    "        \n",
    "    def draw_absolute_curve(self):\n",
    "        self._draw_curve(self.delivery_times, self.prices, \"Years since 28 Jan\")\n",
    "        \n",
    "    def draw_relative_curve(self):\n",
    "        xs = [T - self.observation_time for T in self.delivery_times]\n",
    "        self._draw_curve(xs, self.prices, \"Relative time\")\n",
    "\n",
    "        \n",
    "\n",
    "\n",
    "TTF_28_JAN_PRICES = {\n",
    "    date(2022, 1, 29):90.50, date(2022, 1, 30):90.50, date(2022, 1, 31):90.70, date(2022, 2, 1):91.07, date(2022, 2, 28):91.07,\n",
    "    date(2022, 3, 1):90.82, date(2022, 4, 1):87.50, date(2022, 5, 1):86.55, date(2022, 6, 1):86.37, date(2022, 7, 1):86.17,\n",
    "    date(2022, 8, 1):85.97, date(2022, 9, 1):85.97, date(2022, 10, 1):86.50, date(2022, 11, 1):87.17, date(2022, 12, 1):87.66,\n",
    "    date(2023, 1, 1):87.85, date(2023, 2, 1):87.83, date(2023, 3, 1):82.82, date(2023, 4, 1):49.50, date(2023, 5, 1):45.50,\n",
    "    date(2023, 6, 1):44.90, date(2023, 7, 1):44.56, date(2023, 8, 1):44.61, date(2023, 9, 1):44.70, date(2023, 10, 1):44.97,\n",
    "    date(2023, 11, 1):46.10, date(2023, 12, 1):46.59, date(2024, 1, 1):46.11, date(2024, 2, 1):46.14, date(2024, 3, 1):45.00,\n",
    "    date(2024, 4, 1):34.00, date(2024, 5, 1):31.57, date(2024, 6, 1):30.74, date(2024, 7, 1):30.99, date(2024, 8, 1):30.92,\n",
    "    date(2024, 9, 1):31.20, date(2024, 10, 1):31.66, date(2024, 11, 1):32.56, date(2024, 12, 1):32.93, date(2025, 1, 1):33.11,\n",
    "    date(2025, 2, 1):32.80, date(2025, 3, 1):31.91, date(2025, 4, 1):28.03, date(2025, 5, 1):27.25, date(2025, 6, 1):26.72,\n",
    "    date(2025, 7, 1):26.50, date(2025, 8, 1):26.66, date(2025, 9, 1):26.79, date(2025, 10, 1):27.69, date(2025, 11, 1):28.37,\n",
    "    date(2025, 12, 1):29.04\n",
    "}\n",
    "\n",
    "PRICING_DATE = date(2022, 1, 28)\n",
    "delivery_dates = sorted(TTF_28_JAN_PRICES)\n",
    "TTF_28_JAN_FPC = ForwardPriceCurve(\n",
    "    observation_time = 0.0,\n",
    "    forward_prices = [ForwardPrice(T=(d - PRICING_DATE).days / 365.0, P = TTF_28_JAN_PRICES[d]) for d in delivery_dates]\n",
    ")"
   ]
  },
  {
   "cell_type": "code",
   "execution_count": 43,
   "metadata": {
    "tags": []
   },
   "outputs": [],
   "source": [
    "from abc import ABC, abstractmethod\n",
    "from numbers import Number\n",
    "\n",
    "class PriceProcess(ABC):\n",
    "    def __init__(self):\n",
    "        self.rng = np.random.default_rng()\n",
    "        \n",
    "    @abstractmethod\n",
    "    def evolve(fpc: ForwardPriceCurve, next_observation_time: Number):\n",
    "        \"\"\" randomly perturb the forward curve\"\"\"\n",
    "  "
   ]
  },
  {
   "cell_type": "code",
   "execution_count": 185,
   "metadata": {
    "tags": []
   },
   "outputs": [],
   "source": [
    "class LognormalProcessWithExponentialDecay(PriceProcess):\n",
    "    def __init__(self, alphas: List[Number], vols: List[Number]):\n",
    "        super().__init__()\n",
    "        self.alphas = alphas\n",
    "        self.vols = vols\n",
    "\n",
    "    def evolve(self, fpc, next_observation_time):\n",
    "        \n",
    "        dt = next_observation_time - fpc.observation_time\n",
    "        t = (fpc.observation_time + next_observation_time) / 2.0\n",
    "        dzs = [self.rng.normal(scale=np.sqrt(dt)) for _ in range(len(self.alphas))]\n",
    "        live_fpc = fpc.remove_deliveries_expiring_before(next_observation_time)\n",
    "\n",
    "        def risk_adj(s):\n",
    "            return 0.5 * s * s * dt\n",
    "        \n",
    "        evolved_prices = []\n",
    "        for fp in live_fpc.forward_prices:\n",
    "            evolved_price = fp.P\n",
    "            for dz, alpha, vol in zip(dzs, self.alphas, self.vols):\n",
    "                scaled_vol = np.exp(-alpha * (fp.T - t)) * vol\n",
    "                evolved_price *= np.exp(scaled_vol * dz  - risk_adj(scaled_vol))\n",
    "            evolved_prices.append(ForwardPrice(fp.T, evolved_price))\n",
    "            \n",
    "        return ForwardPriceCurve(\n",
    "            next_observation_time,\n",
    "            evolved_prices\n",
    "        )\n",
    "                                \n",
    "        "
   ]
  },
  {
   "cell_type": "code",
   "execution_count": 232,
   "metadata": {
    "tags": []
   },
   "outputs": [
    {
     "data": {
      "image/png": "[encoded data removed]",
      "text/plain": [
       "<Figure size 432x288 with 1 Axes>"
      ]
     },
     "metadata": {
      "needs_background": "light"
     },
     "output_type": "display_data"
    }
   ],
   "source": [
    "fpc = TTF_28_JAN_FPC\n",
    "process = LognormalProcessWithExponentialDecay(\n",
    "    alphas=[0, 0.9, 10],\n",
    "    vols=[0.2, 0.6, 0.5]\n",
    ")\n",
    "observation_times = [i / 12.0 for i in range(13)]\n",
    "\n",
    "for t in observation_times:\n",
    "    fpc.draw_relative_curve()\n",
    "    clear_output(wait=True)\n",
    "    sleep(0.5)\n",
    "    fpc = process.evolve(fpc, t)"
   ]
  },
  {
   "cell_type": "code",
   "execution_count": null,
   "metadata": {},
   "outputs": [],
   "source": []
  }
 ],
 "metadata": {
  "kernelspec": {
   "display_name": "Python 3",
   "language": "python",
   "name": "python3"
  },
  "language_info": {
   "codemirror_mode": {
    "name": "ipython",
    "version": 3
   },
   "file_extension": ".py",
   "mimetype": "text/x-python",
   "name": "python",
   "nbconvert_exporter": "python",
   "pygments_lexer": "ipython3",
   "version": "3.8.10"
  }
 },
 "nbformat": 4,
 "nbformat_minor": 4
}
