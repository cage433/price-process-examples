{
 "cells": [
  {
   "cell_type": "code",
   "execution_count": 30,
   "metadata": {
    "tags": []
   },
   "outputs": [],
   "source": [
    "%matplotlib inline\n",
    "import numpy as np\n",
    "from time import sleep\n",
    "from IPython.display import clear_output\n",
    "from matplotlib import pyplot as plt\n",
    "from typing import List"
   ]
  },
  {
   "cell_type": "code",
   "execution_count": 60,
   "metadata": {
    "tags": []
   },
   "outputs": [],
   "source": [
    "class ForwardPrice:\n",
    "    \"\"\"\n",
    "    An observed price for some delivery time T\n",
    "    \"\"\"\n",
    "    def __init__(self, T, P):\n",
    "        self.T = T\n",
    "        self.P = P\n",
    "        \n",
    "class ForwardPriceCurve:\n",
    "    \"\"\"\n",
    "    A collection of prices for various delivery times, observed at some time\n",
    "    \"\"\"\n",
    "    def __init__(self, observation_time: Number, forward_prices: List[ForwardPrice]):\n",
    "        self.observation_time = observation_time\n",
    "        self.forward_prices = forward_prices\n",
    "        \n",
    "    \n",
    "    def remove_deliveries_expiring_before(self, boundary):\n",
    "        return ForwardPriceCurve(\n",
    "            self.observation_time,\n",
    "            [fp for fp in self.forward_prices if fp.T >= boundary]\n",
    "        )\n",
    "    \n",
    "    @property\n",
    "    def delivery_times(self):\n",
    "        return [fp.T for fp in self.forward_prices]\n",
    "    \n",
    "    @property\n",
    "    def prices(self):\n",
    "        return [fp.P for fp in self.forward_prices]\n",
    "    \n",
    "    @staticmethod\n",
    "    def build_with_seasonality(delivery_times, average_price, seasonality):\n",
    "        return ForwardPriceCurve(\n",
    "            observation_time=0,\n",
    "            forward_prices=[\n",
    "                ForwardPrice(\n",
    "                    T,\n",
    "                    average_price + np.sin(T * 2 * np.pi) * seasonality\n",
    "                )\n",
    "                for T in delivery_times\n",
    "            ]\n",
    "        )\n"
   ]
  },
  {
   "cell_type": "code",
   "execution_count": 54,
   "metadata": {
    "tags": []
   },
   "outputs": [],
   "source": [
    "def draw_forward_price_curve(fpc):\n",
    "    fig, ax = plt.subplots()\n",
    "    line, = ax.plot([])\n",
    "    ax.set_xlim(0, fpc.delivery_times[-1])\n",
    "    ax.set_ylim(50, 150)\n",
    "    line.set_data(fpc.delivery_times, fpc.prices)\n",
    "    plt.show()"
   ]
  },
  {
   "cell_type": "code",
   "execution_count": 43,
   "metadata": {
    "tags": []
   },
   "outputs": [],
   "source": [
    "from abc import ABC, abstractmethod\n",
    "from numbers import Number\n",
    "\n",
    "class PriceProcess(ABC):\n",
    "    def __init__(self):\n",
    "        self.rng = np.random.default_rng()\n",
    "        \n",
    "    @abstractmethod\n",
    "    def evolve(fpc: ForwardPriceCurve, next_observation_time: Number):\n",
    "        \"\"\" randomly perturb the forward curve\"\"\"\n",
    "  "
   ]
  },
  {
   "cell_type": "code",
   "execution_count": 65,
   "metadata": {
    "tags": []
   },
   "outputs": [],
   "source": [
    "class LognormalProcessWithExponentialDecay(PriceProcess):\n",
    "    def __init__(self, alphas: List[Number], vols: List[Number]):\n",
    "        super().__init__()\n",
    "        self.alphas = alphas\n",
    "        self.vols = vols\n",
    "\n",
    "    def evolve(self, fpc, next_observation_time):\n",
    "        dt = next_observation_time - fpc.observation_time\n",
    "        dz = self.rng.normal(scale=dt)\n",
    "        live_fpc = fpc.remove_deliveries_expiring_before(next_observation_time)\n",
    "\n",
    "        def risk_adj(s):\n",
    "            return 0.5 * s * s * dt\n",
    "        \n",
    "        evolved_prices = []\n",
    "        for fp in live_fpc.forward_prices:\n",
    "            evolved_price = fp.P\n",
    "            for alpha, vol in zip(self.alphas, self.vols):\n",
    "                scaled_vol = np.exp(-alpha * (fp.T - t)) * vol\n",
    "                evolved_price *= np.exp(scaled_vol * dz - risk_adj(scaled_vol))\n",
    "            evolved_prices.append(ForwardPrice(fp.T, evolved_price))\n",
    "            \n",
    "        return ForwardPriceCurve(\n",
    "            next_observation_time,\n",
    "            evolved_prices\n",
    "        )\n",
    "                                \n",
    "        "
   ]
  },
  {
   "cell_type": "code",
   "execution_count": 68,
   "metadata": {
    "tags": []
   },
   "outputs": [
    {
     "data": {
      "image/png": "[encoded data removed]",
      "text/plain": [
       "<Figure size 432x288 with 1 Axes>"
      ]
     },
     "metadata": {
      "needs_background": "light"
     },
     "output_type": "display_data"
    }
   ],
   "source": [
    "num_years = 2\n",
    "delivery_times = [i / 12 for i in range(12 * num_years + 1)]\n",
    "fpc = ForwardPriceCurve.build_with_seasonality(delivery_times, average_price=100, seasonality=20)\n",
    "process = LognormalProcessWithExponentialDecay(\n",
    "    alphas=[1.5],\n",
    "    vols=[1.6]\n",
    ")\n",
    "observation_times = [i / 52.0 for i in range(53)]\n",
    "\n",
    "for t in observation_times:\n",
    "    draw_forward_price_curve(fpc)\n",
    "    clear_output(wait=True)\n",
    "    sleep(0.1)\n",
    "    fpc = process.evolve(fpc, t)"
   ]
  },
  {
   "cell_type": "code",
   "execution_count": 33,
   "metadata": {},
   "outputs": [
    {
     "data": {
      "image/png": "[encoded data removed]",
      "text/plain": [
       "<Figure size 432x288 with 1 Axes>"
      ]
     },
     "metadata": {
      "needs_background": "light"
     },
     "output_type": "display_data"
    }
   ],
   "source": [
    "\n",
    "\n",
    "rng = np.random.default_rng()\n",
    "num_years = 2\n",
    "\n",
    "\n",
    "dt = 1.0 / 52\n",
    "delivery_times = [ i / 52 for i in range(52 * num_years + 1) ]\n",
    "\n",
    "forward_prices = construct_forward_prices(delivery_times, average_price = 100, seasonality=20)\n",
    "\n",
    "\n",
    "alpha = 1.5\n",
    "sigma = 0.6\n",
    "\n",
    "kappa = 0.5\n",
    "spot_daily_std_dev = 2.0\n",
    "spot_weekly_std_dev = spot_daily_std_dev * np.sqrt(7)\n",
    "\n",
    "def risk_adj(s):\n",
    "    return 0.5 * s * s * dt\n",
    "\n",
    "def move_to_week(i_week):\n",
    "\n",
    "    dz = rng.normal(scale=dt)\n",
    "    live_week_indices = week_indices[i_week:]\n",
    "    t = delivery_times[i_week]\n",
    "    #spot_price = forward_prices[i_week]\n",
    "    #ma_price = forward_prices[i_week + 4]\n",
    "\n",
    "    \n",
    "    for i in live_week_indices:\n",
    "        T = delivery_times[i]\n",
    "        scaled_sigma = sigma * np.exp(- alpha * (T - t))\n",
    "        forward_prices[i] *= np.exp(scaled_sigma * dz - risk_adj(scaled_sigma))\n",
    "    #d_spot = rng.normal(scale=spot_weekly_std_dev)\n",
    "    #forward_prices[i_week] += kappa * (ma_price - spot_price) + d_spot\n",
    "    draw_forward_prices(delivery_times[i_week:], forward_prices[i_week:])\n",
    "    clear_output(wait=True)\n",
    "    sleep(0.1)\n",
    "    \n",
    "num_time_steps = 50\n",
    "    \n",
    "for i_week in range(num_time_steps):\n",
    "    move_to_week(i_week)\n"
   ]
  },
  {
   "cell_type": "code",
   "execution_count": null,
   "metadata": {},
   "outputs": [],
   "source": []
  }
 ],
 "metadata": {
  "kernelspec": {
   "display_name": "Python 3",
   "language": "python",
   "name": "python3"
  },
  "language_info": {
   "codemirror_mode": {
    "name": "ipython",
    "version": 3
   },
   "file_extension": ".py",
   "mimetype": "text/x-python",
   "name": "python",
   "nbconvert_exporter": "python",
   "pygments_lexer": "ipython3",
   "version": "3.8.10"
  }
 },
 "nbformat": 4,
 "nbformat_minor": 4
}
