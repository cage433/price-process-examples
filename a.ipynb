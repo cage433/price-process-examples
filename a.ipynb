{
 "cells": [
  {
   "cell_type": "code",
   "execution_count": 1,
   "metadata": {
    "tags": []
   },
   "outputs": [],
   "source": [
    "%matplotlib inline\n",
    "import numpy as np\n",
    "from time import sleep\n",
    "from IPython.display import clear_output\n",
    "from matplotlib import pyplot as plt\n"
   ]
  },
  {
   "cell_type": "code",
   "execution_count": 11,
   "metadata": {},
   "outputs": [
    {
     "data": {
      "image/png": "[encoded data removed]",
      "text/plain": [
       "<Figure size 432x288 with 1 Axes>"
      ]
     },
     "metadata": {
      "needs_background": "light"
     },
     "output_type": "display_data"
    }
   ],
   "source": [
    "\n",
    "\n",
    "rng = np.random.default_rng()\n",
    "num_years = 2\n",
    "seasonality = 20\n",
    "average_price = 100\n",
    "\n",
    "num_weeks = 52 * num_years + 1\n",
    "dt = 1.0 / 52\n",
    "week_indices = list(range(num_weeks))\n",
    "delivery_times = [ i / 52 for i in week_indices ]\n",
    "\n",
    "#fig, ax = plt.subplots()\n",
    "#line, = ax.plot([])\n",
    "#ax.set_xlim(0, num_years)\n",
    "#ax.set_ylim(50, 150)\n",
    "\n",
    "forward_prices = [average_price  + np.sin(i * 2 * np.pi / 51) * seasonality for i in range(num_weeks)]\n",
    "\n",
    "\n",
    "alpha = 1.5\n",
    "sigma = 0.6\n",
    "\n",
    "kappa = 0.5\n",
    "spot_daily_std_dev = 2.0\n",
    "spot_weekly_std_dev = spot_daily_std_dev * np.sqrt(7)\n",
    "#line.set_data((delivery_times, forward_prices))\n",
    "#plt.show()\n",
    "\n",
    "def risk_adj(s):\n",
    "    return 0.5 * s * s * dt\n",
    "\n",
    "def move_to_week2(i_week):\n",
    "    for i in range(len(forward_prices)):\n",
    "        pass\n",
    "        #forward_prices[i] += 1 \n",
    "    line.set_data((delivery_times, forward_prices))\n",
    "    plt.show()\n",
    "    sleep(0.5)\n",
    "    clear_output(wait=True)\n",
    "    \n",
    "def move_to_week(i_week):\n",
    "\n",
    "    fig, ax = plt.subplots()\n",
    "    line, = ax.plot([])\n",
    "    ax.set_xlim(0, num_years)\n",
    "    ax.set_ylim(50, 150)\n",
    "\n",
    "    dz = rng.normal(scale=dt)\n",
    "    live_week_indices = week_indices[i_week:]\n",
    "    t = delivery_times[i_week]\n",
    "    #spot_price = forward_prices[i_week]\n",
    "    #ma_price = forward_prices[i_week + 4]\n",
    "\n",
    "    \n",
    "    for i in live_week_indices:\n",
    "        T = delivery_times[i]\n",
    "        scaled_sigma = sigma * np.exp(- alpha * (T - t))\n",
    "        forward_prices[i] *= np.exp(scaled_sigma * dz - risk_adj(scaled_sigma))\n",
    "    #d_spot = rng.normal(scale=spot_weekly_std_dev)\n",
    "    #forward_prices[i_week] += kappa * (ma_price - spot_price) + d_spot\n",
    "    line.set_data(delivery_times[i_week:], forward_prices[i_week:])\n",
    "    plt.show()\n",
    "    clear_output(wait=True)\n",
    "    sleep(0.1)\n",
    "    \n",
    "num_time_steps = 50\n",
    "    \n",
    "for i_week in range(num_time_steps):\n",
    "    move_to_week(i_week)\n"
   ]
  },
  {
   "cell_type": "code",
   "execution_count": null,
   "metadata": {},
   "outputs": [],
   "source": []
  }
 ],
 "metadata": {
  "kernelspec": {
   "display_name": "Python 3",
   "language": "python",
   "name": "python3"
  },
  "language_info": {
   "codemirror_mode": {
    "name": "ipython",
    "version": 3
   },
   "file_extension": ".py",
   "mimetype": "text/x-python",
   "name": "python",
   "nbconvert_exporter": "python",
   "pygments_lexer": "ipython3",
   "version": "3.8.10"
  }
 },
 "nbformat": 4,
 "nbformat_minor": 4
}
